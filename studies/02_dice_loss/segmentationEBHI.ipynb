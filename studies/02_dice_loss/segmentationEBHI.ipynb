{
 "cells": [
  {
   "cell_type": "code",
   "execution_count": null,
   "id": "0f94d411",
   "metadata": {},
   "outputs": [],
   "source": [
    "from utils_package import *\n",
    "from utils_package.loaders import build_loaders\n",
    "from utils_package.net_UNET import Unet\n",
    "from utils_package.constants import IN_CHANNELS, OUT_CHANNELS, LEARNING_RATE, MIN_EPOCHS, MAX_EPOCHS, DEVICE, EARLY_STOP_COUNT\n",
    "from utils_package.train_function import train_loop, test_loop\n",
    "from utils_package.plot import plot_batch, plot_loss, plot_avg_metric\n",
    "from utils_package.utils import early_stopping, save_model, load_model, dc_loss"
   ]
  },
  {
   "cell_type": "code",
   "execution_count": null,
   "id": "8c1e2090",
   "metadata": {},
   "outputs": [],
   "source": [
    "model = Unet(IN_CHANNELS, OUT_CHANNELS).to(device = DEVICE)\n",
    "loss_fn = dc_loss\n",
    "optimizer = optim.Adam(model.parameters(), lr = LEARNING_RATE)\n",
    "train_loader, test_loader = build_loaders()\n",
    "checkpoint = \"models/dice_loss.pth\"\n",
    "\n",
    "# ----- LOAD THE MODEL -----\n",
    "if os.path.exists(checkpoint):\n",
    "    model, optimizer, loss_fn = load_model(model, optimizer, checkpoint)"
   ]
  },
  {
   "cell_type": "code",
   "execution_count": null,
   "id": "06b1e66b",
   "metadata": {},
   "outputs": [],
   "source": [
    "def main():\n",
    "    # ----- PLOT SAMPLE OF IMAGES AND TARGETS -----\n",
    "    images, targets, classes = next(iter(train_loader))\n",
    "    plot_batch(images[10::], targets[10::], classes[10::], 10, (30, 6))\n",
    "\n",
    "    train_losses = []\n",
    "    test_losses = []\n",
    "    iou_scores = []\n",
    "    dice_scores = []\n",
    "    pixel_errors = []\n",
    "    stop_count = 0\n",
    "\n",
    "    for epoch in range(MAX_EPOCHS):\n",
    "        avg_train_loss = train_loop(train_loader, model, optimizer, loss_fn, epoch, hpc=False)\n",
    "        avg_test_loss, avg_iou_scores, avg_dice_scores, avg_pixel_error = test_loop(test_loader, model, loss_fn, hpc=False)\n",
    "\n",
    "        train_losses.append(avg_train_loss)\n",
    "        test_losses.append(avg_test_loss)\n",
    "        iou_scores.append(avg_iou_scores)\n",
    "        dice_scores.append(avg_dice_scores)\n",
    "        pixel_errors.append(avg_pixel_error)\n",
    "\n",
    "        # ----- PLOT EVALUATION METRICS -----\n",
    "        plot_loss(train_losses, \"Train Losses\", \"losses\", path=\"plots/train_loss\")\n",
    "        plot_loss(test_losses, \"Validation Losses\", \"losses\", path=\"plots/test_loss\")\n",
    "        plot_avg_metric(iou_scores, \"IoU Score Per Class\", path = \"plots/iou\")\n",
    "        plot_avg_metric(dice_scores, \"Dice Score Per Class\", path = \"plots/dice\")\n",
    "        plot_avg_metric(pixel_errors, \"Pixel Error Per Class\", path = \"plots/pixel_error\")\n",
    "\n",
    "        # ----- SAVE THE CHECKPOINT OF THE MODEL -----\n",
    "        save_model(model.state_dict(), optimizer.state_dict(), loss_fn, checkpoint)\n",
    "\n",
    "        # ----- CHECK EARLY STOPPING -----\n",
    "        if early_stopping(test_losses): stop_count += 1\n",
    "        else: stop_count = 0\n",
    "\n",
    "        if stop_count >= EARLY_STOP_COUNT and epoch >= MIN_EPOCHS:\n",
    "            break"
   ]
  },
  {
   "cell_type": "code",
   "execution_count": null,
   "id": "94edba42",
   "metadata": {},
   "outputs": [],
   "source": [
    "if __name__ == \"__main__\":\n",
    "    main()"
   ]
  }
 ],
 "metadata": {
  "kernelspec": {
   "display_name": "base",
   "language": "python",
   "name": "python3"
  },
  "language_info": {
   "codemirror_mode": {
    "name": "ipython",
    "version": 3
   },
   "file_extension": ".py",
   "mimetype": "text/x-python",
   "name": "python",
   "nbconvert_exporter": "python",
   "pygments_lexer": "ipython3",
   "version": "3.12.3"
  }
 },
 "nbformat": 4,
 "nbformat_minor": 5
}
